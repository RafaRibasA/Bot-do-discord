{
 "cells": [
  {
   "cell_type": "markdown",
   "metadata": {},
   "source": [
    "# Imports"
   ]
  },
  {
   "cell_type": "code",
   "execution_count": 56,
   "metadata": {},
   "outputs": [],
   "source": [
    "import numpy as np \n",
    "import pandas as pd \n",
    "import matplotlib.pyplot as plt\n",
    "import tensorflow as tf\n",
    "from PIL import Image\n",
    "import os\n",
    "from sklearn.model_selection import train_test_split\n",
    "from keras.utils import to_categorical\n",
    "from keras.models import Sequential, load_model\n",
    "from keras.layers import Conv2D, MaxPool2D, Dense, Flatten, Dropout"
   ]
  },
  {
   "cell_type": "markdown",
   "metadata": {},
   "source": [
    "## Criação do dataset list e labels"
   ]
  },
  {
   "cell_type": "code",
   "execution_count": 57,
   "metadata": {},
   "outputs": [],
   "source": [
    "data = []\n",
    "labels = []\n",
    "classes = 43\n",
    "cur_path = os.getcwd()\n",
    "#Retrieving the images and their labels \n",
    "for i in range(classes):\n",
    "    path = os.path.join(cur_path,'train',str(i))\n",
    "    images = os.listdir(path)\n",
    "    for a in images:\n",
    "        try:\n",
    "            image = Image.open(path + '\\\\'+ a)\n",
    "            image = image.resize((30,30))\n",
    "            image = np.array(image)\n",
    "            #sim = Image.fromarray(image)\n",
    "            data.append(image)\n",
    "            labels.append(i)\n",
    "        except:\n",
    "            print(\"Error loading image\")"
   ]
  },
  {
   "cell_type": "markdown",
   "metadata": {},
   "source": [
    "## Transformando o list em array"
   ]
  },
  {
   "cell_type": "code",
   "execution_count": 58,
   "metadata": {},
   "outputs": [
    {
     "name": "stdout",
     "output_type": "stream",
     "text": [
      "(39209, 30, 30, 3) (39209,)\n"
     ]
    }
   ],
   "source": [
    "data = np.array(data)\n",
    "labels = np.array(labels)\n",
    "\n",
    "print(data.shape, labels.shape)"
   ]
  },
  {
   "cell_type": "markdown",
   "metadata": {},
   "source": [
    "## Separando o train e test data set"
   ]
  },
  {
   "cell_type": "code",
   "execution_count": 59,
   "metadata": {},
   "outputs": [
    {
     "name": "stdout",
     "output_type": "stream",
     "text": [
      "(31367, 30, 30, 3) (7842, 30, 30, 3) (31367,) (7842,)\n"
     ]
    }
   ],
   "source": [
    "X_train, X_test, y_train, y_test = train_test_split(data, labels, test_size=0.2, random_state=42)\n",
    "\n",
    "print(X_train.shape, X_test.shape, y_train.shape, y_test.shape)"
   ]
  },
  {
   "cell_type": "markdown",
   "metadata": {},
   "source": [
    "## Transformar em variáveis "
   ]
  },
  {
   "cell_type": "code",
   "execution_count": 60,
   "metadata": {},
   "outputs": [],
   "source": [
    "y_train = to_categorical(y_train, 43)\n",
    "\n",
    "y_test = to_categorical(y_test, 43)"
   ]
  },
  {
   "cell_type": "markdown",
   "metadata": {},
   "source": [
    "## Construindo os modelos"
   ]
  },
  {
   "cell_type": "code",
   "execution_count": 61,
   "metadata": {},
   "outputs": [],
   "source": [
    "model = Sequential()\n",
    "# model.add(Conv2D(filters=32, kernel_size=(5,5), activation='relu', input_shape=X_train.shape[1:]))\n",
    "model.add(Conv2D(filters=32, kernel_size=(5,5), activation='relu', input_shape = (30, 30, 3)))\n",
    "model.add(Conv2D(filters=32, kernel_size=(5,5), activation='relu'))\n",
    "model.add(MaxPool2D(pool_size=(2, 2)))\n",
    "model.add(Dropout(rate=0.25))\n",
    "model.add(Conv2D(filters=64, kernel_size=(3, 3), activation='relu'))\n",
    "model.add(Conv2D(filters=64, kernel_size=(3, 3), activation='relu'))\n",
    "model.add(MaxPool2D(pool_size=(2, 2)))\n",
    "model.add(Dropout(rate=0.25))\n",
    "model.add(Flatten())\n",
    "model.add(Dense(256, activation='relu'))\n",
    "model.add(Dropout(rate=0.5))\n",
    "model.add(Dense(43, activation='softmax'))"
   ]
  },
  {
   "cell_type": "markdown",
   "metadata": {},
   "source": [
    "## Treinamento do bot"
   ]
  },
  {
   "cell_type": "code",
   "execution_count": 62,
   "metadata": {},
   "outputs": [
    {
     "name": "stdout",
     "output_type": "stream",
     "text": [
      "Epoch 1/20\n",
      "981/981 [==============================] - 45s 45ms/step - loss: 1.9684 - accuracy: 0.5011 - val_loss: 0.3995 - val_accuracy: 0.9016\n",
      "Epoch 2/20\n",
      "981/981 [==============================] - 46s 47ms/step - loss: 0.6407 - accuracy: 0.8138 - val_loss: 0.1716 - val_accuracy: 0.9593\n",
      "Epoch 3/20\n",
      "981/981 [==============================] - 46s 47ms/step - loss: 0.3854 - accuracy: 0.8867 - val_loss: 0.0958 - val_accuracy: 0.9736\n",
      "Epoch 4/20\n",
      "981/981 [==============================] - 46s 47ms/step - loss: 0.3183 - accuracy: 0.9097 - val_loss: 0.2320 - val_accuracy: 0.9353\n",
      "Epoch 5/20\n",
      "981/981 [==============================] - 46s 47ms/step - loss: 0.2752 - accuracy: 0.9234 - val_loss: 0.0767 - val_accuracy: 0.9782\n",
      "Epoch 6/20\n",
      "981/981 [==============================] - 46s 47ms/step - loss: 0.2348 - accuracy: 0.9359 - val_loss: 0.0538 - val_accuracy: 0.9866\n",
      "Epoch 7/20\n",
      "981/981 [==============================] - 46s 47ms/step - loss: 0.2143 - accuracy: 0.9423 - val_loss: 0.0980 - val_accuracy: 0.9731\n",
      "Epoch 8/20\n",
      "981/981 [==============================] - 44s 45ms/step - loss: 0.1919 - accuracy: 0.9477 - val_loss: 0.0576 - val_accuracy: 0.9857\n",
      "Epoch 9/20\n",
      "981/981 [==============================] - 44s 44ms/step - loss: 0.1936 - accuracy: 0.9490 - val_loss: 0.0438 - val_accuracy: 0.9887\n",
      "Epoch 10/20\n",
      "981/981 [==============================] - 44s 44ms/step - loss: 0.1989 - accuracy: 0.9509 - val_loss: 0.0396 - val_accuracy: 0.9892\n",
      "Epoch 11/20\n",
      "981/981 [==============================] - 43s 44ms/step - loss: 0.1709 - accuracy: 0.9542 - val_loss: 0.0554 - val_accuracy: 0.9872\n",
      "Epoch 12/20\n",
      "981/981 [==============================] - 44s 45ms/step - loss: 0.1874 - accuracy: 0.9532 - val_loss: 0.0576 - val_accuracy: 0.9851\n",
      "Epoch 13/20\n",
      "981/981 [==============================] - 43s 44ms/step - loss: 0.1782 - accuracy: 0.9551 - val_loss: 0.0442 - val_accuracy: 0.9885\n",
      "Epoch 14/20\n",
      "981/981 [==============================] - 39s 40ms/step - loss: 0.1667 - accuracy: 0.9582 - val_loss: 0.0408 - val_accuracy: 0.9899\n",
      "Epoch 15/20\n",
      "981/981 [==============================] - 45s 46ms/step - loss: 0.1788 - accuracy: 0.9571 - val_loss: 0.0558 - val_accuracy: 0.9852\n",
      "Epoch 16/20\n",
      "981/981 [==============================] - 45s 46ms/step - loss: 0.1786 - accuracy: 0.9588 - val_loss: 0.0251 - val_accuracy: 0.9934\n",
      "Epoch 17/20\n",
      "981/981 [==============================] - 45s 46ms/step - loss: 0.1902 - accuracy: 0.9577 - val_loss: 0.0494 - val_accuracy: 0.9852\n",
      "Epoch 18/20\n",
      "981/981 [==============================] - 43s 44ms/step - loss: 0.1765 - accuracy: 0.9575 - val_loss: 0.0346 - val_accuracy: 0.9903\n",
      "Epoch 19/20\n",
      "981/981 [==============================] - 43s 44ms/step - loss: 0.2010 - accuracy: 0.9548 - val_loss: 0.0299 - val_accuracy: 0.9918\n",
      "Epoch 20/20\n",
      "981/981 [==============================] - 43s 44ms/step - loss: 0.1852 - accuracy: 0.9570 - val_loss: 0.0420 - val_accuracy: 0.9884\n"
     ]
    }
   ],
   "source": [
    "model.compile(loss='categorical_crossentropy', optimizer='adam', metrics=['accuracy'])\n",
    "epochs = 20\n",
    "history = model.fit(X_train, y_train, batch_size=32, epochs=epochs, validation_data=(X_test, y_test))\n",
    "model.save(\"my_model.h5\")"
   ]
  },
  {
   "cell_type": "markdown",
   "metadata": {},
   "source": [
    "## Gráfico"
   ]
  },
  {
   "cell_type": "code",
   "execution_count": 63,
   "metadata": {},
   "outputs": [
    {
     "data": {
      "image/png": "[encoded data removed]",
      "text/plain": [
       "<Figure size 432x288 with 1 Axes>"
      ]
     },
     "metadata": {
      "needs_background": "light"
     },
     "output_type": "display_data"
    },
    {
     "data": {
      "image/png": "[encoded data removed]",
      "text/plain": [
       "<Figure size 432x288 with 1 Axes>"
      ]
     },
     "metadata": {
      "needs_background": "light"
     },
     "output_type": "display_data"
    }
   ],
   "source": [
    "plt.figure(0)\n",
    "plt.plot(history.history['accuracy'], label='training accuracy')\n",
    "plt.plot(history.history['val_accuracy'], label='val accuracy')\n",
    "plt.title('Accuracy')\n",
    "plt.xlabel('epochs')\n",
    "plt.ylabel('accuracy')\n",
    "plt.legend()\n",
    "plt.show()\n",
    "\n",
    "plt.figure(1)\n",
    "plt.plot(history.history['loss'], label='training loss')\n",
    "plt.plot(history.history['val_loss'], label='val loss')\n",
    "plt.title('Loss')\n",
    "plt.xlabel('epochs')\n",
    "plt.ylabel('loss')\n",
    "plt.legend()\n",
    "plt.show()"
   ]
  },
  {
   "cell_type": "markdown",
   "metadata": {},
   "source": [
    "## Testando a accurancy"
   ]
  },
  {
   "cell_type": "code",
   "execution_count": 65,
   "metadata": {},
   "outputs": [
    {
     "name": "stdout",
     "output_type": "stream",
     "text": [
      "395/395 [==============================] - 3s 6ms/step\n"
     ]
    }
   ],
   "source": [
    "from sklearn.metrics import accuracy_score\n",
    "y_test = pd.read_csv('Test.csv')\n",
    "labels = y_test[\"ClassId\"].values\n",
    "imgs = y_test[\"Path\"].values\n",
    "data=[]\n",
    "for img in imgs:\n",
    "    image = Image.open(img)\n",
    "    image = image.resize((30,30))\n",
    "    data.append(np.array(image))\n",
    "X_test=np.array(data)\n",
    "pred = model.predict(X_test)\n",
    "\n",
    "model.save('traffic_classifier.h5')"
   ]
  }
 ],
 "metadata": {
  "interpreter": {
   "hash": "1cff25e70c1e57fad421e91c4365585c5e52e605a4ac474950021b51ee0f23f7"
  },
  "kernelspec": {
   "display_name": "Python 3.9.12 ('base')",
   "language": "python",
   "name": "python3"
  },
  "language_info": {
   "codemirror_mode": {
    "name": "ipython",
    "version": 3
   },
   "file_extension": ".py",
   "mimetype": "text/x-python",
   "name": "python",
   "nbconvert_exporter": "python",
   "pygments_lexer": "ipython3",
   "version": "3.9.12"
  },
  "orig_nbformat": 4
 },
 "nbformat": 4,
 "nbformat_minor": 2
}
